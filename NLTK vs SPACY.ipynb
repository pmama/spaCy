{
 "cells": [
  {
   "cell_type": "code",
   "execution_count": 1,
   "id": "f3a1c74a",
   "metadata": {},
   "outputs": [],
   "source": [
    "# !python -m venv .env \n",
    "# !.\\.env\\Scripts\\activate\n",
    "# !D:\\Anaconda\\python.exe -m pip install -U pip setuptools wheel -q\n",
    "# !D:\\Anaconda\\python.exe -m pip install -U spacy -q"
   ]
  },
  {
   "cell_type": "code",
   "execution_count": 2,
   "id": "cc8cdc67",
   "metadata": {},
   "outputs": [],
   "source": [
    "#!python -m spacy download en_core_web_sm"
   ]
  },
  {
   "cell_type": "code",
   "execution_count": 3,
   "id": "f5153bf7",
   "metadata": {},
   "outputs": [],
   "source": [
    "import pyforest"
   ]
  },
  {
   "cell_type": "code",
   "execution_count": 4,
   "id": "490e5b4b",
   "metadata": {},
   "outputs": [],
   "source": [
    "import nltk\n",
    "import spacy "
   ]
  },
  {
   "cell_type": "markdown",
   "id": "8b1e927a",
   "metadata": {},
   "source": [
    "# containers:\n",
    "Containers are spaCy objects that contain large quantity of data about a text. \n",
    "When we analyse text data with spaCy framework, we create different container objects to do that.\n",
    "\n",
    "- **doc**\n",
    "- docbin\n",
    "- example\n",
    "- language\n",
    "- lexeme\n",
    "- **token** - index of doc object\n",
    "- **span**\n",
    "- spangroup \n",
    "\n"
   ]
  },
  {
   "cell_type": "markdown",
   "id": "eca0e2ce",
   "metadata": {},
   "source": [
    "-  Doc: a container for accessing linguistic annotations, is a sequence of token objects. With the help of Doc class, we can access sentences as well as named entities."
   ]
  },
  {
   "attachments": {
    "image.png": {
     "image/png": "[encoded data removed]"
    }
   },
   "cell_type": "markdown",
   "id": "6c3348e6",
   "metadata": {},
   "source": [
    "![image.png](attachment:image.png)"
   ]
  },
  {
   "cell_type": "code",
   "execution_count": 39,
   "id": "f0c27be9",
   "metadata": {},
   "outputs": [
    {
     "data": {
      "text/plain": [
       "'The United States of America (USA or U.S.A.), \\ncommonly known as the United States (US or U.S.) or America, \\nis a country primarily located in North America. \\nThe third-largest country in the world by land and total area,[c] \\nthe U.S. consists of 50 states, a federal district, \\nfive major unincorporated territories, nine Minor Outlying Islands[i] \\nand includes 326 Indian reservations. It shares land borders with Canada \\nto its north and with Mexico to its south and has maritime borders with several \\nother countries.[j] With a population of over 334 million,[k] \\nit is the most populous country in the Americas and the third-most populous \\nin the world. The national capital of the United States is Washington, D.C., \\nand its most populous city and principal financial center is New York City.'"
      ]
     },
     "execution_count": 39,
     "metadata": {},
     "output_type": "execute_result"
    }
   ],
   "source": [
    "para = '''The United States of America (USA or U.S.A.), \n",
    "commonly known as the United States (US or U.S.) or America, \n",
    "is a country primarily located in North America. \n",
    "The third-largest country in the world by land and total area,[c] \n",
    "the U.S. consists of 50 states, a federal district, \n",
    "five major unincorporated territories, nine Minor Outlying Islands[i] \n",
    "and includes 326 Indian reservations. It shares land borders with Canada \n",
    "to its north and with Mexico to its south and has maritime borders with several \n",
    "other countries.[j] With a population of over 334 million,[k] \n",
    "it is the most populous country in the Americas and the third-most populous \n",
    "in the world. The national capital of the United States is Washington, D.C., \n",
    "and its most populous city and principal financial center is New York City.'''\n",
    "para"
   ]
  },
  {
   "cell_type": "code",
   "execution_count": 40,
   "id": "1e2384fd",
   "metadata": {},
   "outputs": [
    {
     "name": "stdout",
     "output_type": "stream",
     "text": [
      "The United States of America (USA or U.S.A.), \n",
      "commonly known as the United States (US or U.S.) or America, \n",
      "is a country primarily located in North America. \n",
      "The third-largest country in the world by land and total area,[c] \n",
      "the U.S. consists of 50 states, a federal district, \n",
      "five major unincorporated territories, nine Minor Outlying Islands[i] \n",
      "and includes 326 Indian reservations. It shares land borders with Canada \n",
      "to its north and with Mexico to its south and has maritime borders with several \n",
      "other countries.[j] With a population of over 334 million,[k] \n",
      "it is the most populous country in the Americas and the third-most populous \n",
      "in the world. The national capital of the United States is Washington, D.C., \n",
      "and its most populous city and principal financial center is New York City.\n"
     ]
    }
   ],
   "source": [
    "nlp = spacy.load(\"en_core_web_sm\")\n",
    "doc = nlp(para)\n",
    "print(doc)"
   ]
  },
  {
   "cell_type": "code",
   "execution_count": 41,
   "id": "e2d8f50c",
   "metadata": {},
   "outputs": [
    {
     "name": "stdout",
     "output_type": "stream",
     "text": [
      "798\n",
      "163\n"
     ]
    }
   ],
   "source": [
    "print(len(para))\n",
    "print(len(doc))"
   ]
  },
  {
   "cell_type": "code",
   "execution_count": 42,
   "id": "2031951a",
   "metadata": {},
   "outputs": [
    {
     "name": "stdout",
     "output_type": "stream",
     "text": [
      "T\n",
      "h\n",
      "e\n",
      " \n",
      "U\n",
      "n\n",
      "i\n",
      "t\n",
      "e\n",
      "d\n"
     ]
    }
   ],
   "source": [
    "for token in para[:10]:\n",
    "    print(token)"
   ]
  },
  {
   "cell_type": "code",
   "execution_count": 43,
   "id": "2955439f",
   "metadata": {},
   "outputs": [
    {
     "name": "stdout",
     "output_type": "stream",
     "text": [
      "The\n",
      "United\n",
      "States\n",
      "of\n",
      "America\n",
      "(\n",
      "USA\n",
      "or\n",
      "U.S.A.\n",
      ")\n",
      ",\n",
      "\n",
      "\n",
      "commonly\n",
      "known\n",
      "as\n",
      "the\n",
      "United\n",
      "States\n",
      "(\n",
      "US\n"
     ]
    }
   ],
   "source": [
    "for token in doc[:20]:\n",
    "    print(token)"
   ]
  },
  {
   "cell_type": "code",
   "execution_count": 44,
   "id": "5ff93188",
   "metadata": {},
   "outputs": [
    {
     "name": "stdout",
     "output_type": "stream",
     "text": [
      "The\n",
      "United\n",
      "States\n",
      "of\n",
      "America\n",
      "(USA\n",
      "or\n",
      "U.S.A.),\n",
      "commonly\n",
      "known\n",
      "as\n",
      "the\n",
      "United\n",
      "States\n",
      "(US\n",
      "or\n",
      "U.S.)\n",
      "or\n",
      "America,\n",
      "is\n"
     ]
    }
   ],
   "source": [
    "for token in para.split()[:20]:\n",
    "    print(token)"
   ]
  },
  {
   "cell_type": "code",
   "execution_count": 45,
   "id": "998b36c9",
   "metadata": {},
   "outputs": [
    {
     "name": "stdout",
     "output_type": "stream",
     "text": [
      "The United States of America (USA or U.S.A.), \n",
      "commonly known as the United States (US or U.S.) or America, \n",
      "is a country primarily located in North America. \n",
      "\n",
      "The third-largest country in the world by land and total area,[c] \n",
      "the U.S. consists of 50 states, a federal district, \n",
      "five major unincorporated territories, nine Minor Outlying Islands[i] \n",
      "and includes 326 Indian reservations.\n",
      "It shares land borders with Canada \n",
      "to its north and with Mexico to its south and has maritime borders with several \n",
      "other countries.[j] With a population of over 334 million,[k] \n",
      "it is the most populous country in the Americas and the third-most populous \n",
      "in the world.\n",
      "The national capital of the United States is Washington, D.C., \n",
      "and its most populous city and principal financial center is New York City.\n"
     ]
    }
   ],
   "source": [
    "for sent in doc.sents:\n",
    "    print(sent)"
   ]
  },
  {
   "cell_type": "code",
   "execution_count": 46,
   "id": "032dedac",
   "metadata": {},
   "outputs": [
    {
     "data": {
      "text/plain": [
       "The"
      ]
     },
     "execution_count": 46,
     "metadata": {},
     "output_type": "execute_result"
    }
   ],
   "source": [
    "doc[0]"
   ]
  },
  {
   "cell_type": "code",
   "execution_count": 21,
   "id": "862f9baa",
   "metadata": {},
   "outputs": [
    {
     "ename": "TypeError",
     "evalue": "'generator' object is not subscriptable",
     "output_type": "error",
     "traceback": [
      "\u001b[1;31m---------------------------------------------------------------------------\u001b[0m",
      "\u001b[1;31mTypeError\u001b[0m                                 Traceback (most recent call last)",
      "Cell \u001b[1;32mIn[21], line 1\u001b[0m\n\u001b[1;32m----> 1\u001b[0m \u001b[43mdoc\u001b[49m\u001b[38;5;241;43m.\u001b[39;49m\u001b[43msents\u001b[49m\u001b[43m[\u001b[49m\u001b[38;5;241;43m0\u001b[39;49m\u001b[43m]\u001b[49m\n",
      "\u001b[1;31mTypeError\u001b[0m: 'generator' object is not subscriptable"
     ]
    }
   ],
   "source": [
    "doc.sents[0]"
   ]
  },
  {
   "cell_type": "code",
   "execution_count": 47,
   "id": "82cd2813",
   "metadata": {},
   "outputs": [
    {
     "data": {
      "text/plain": [
       "The United States of America (USA or U.S.A.), \n",
       "commonly known as the United States (US or U.S.) or America, \n",
       "is a country primarily located in North America. "
      ]
     },
     "execution_count": 47,
     "metadata": {},
     "output_type": "execute_result"
    }
   ],
   "source": [
    "sentence1 = list(doc.sents)[0]\n",
    "sentence1"
   ]
  },
  {
   "cell_type": "code",
   "execution_count": 48,
   "id": "48b8ab24",
   "metadata": {},
   "outputs": [
    {
     "data": {
      "text/plain": [
       "37"
      ]
     },
     "execution_count": 48,
     "metadata": {},
     "output_type": "execute_result"
    }
   ],
   "source": [
    "len(sentence1)"
   ]
  },
  {
   "cell_type": "code",
   "execution_count": 50,
   "id": "ad589989",
   "metadata": {},
   "outputs": [
    {
     "data": {
      "text/plain": [
       "States"
      ]
     },
     "execution_count": 50,
     "metadata": {},
     "output_type": "execute_result"
    }
   ],
   "source": [
    "token1 = sentence1[2]\n",
    "token1"
   ]
  },
  {
   "cell_type": "code",
   "execution_count": 51,
   "id": "eeb77bca",
   "metadata": {},
   "outputs": [
    {
     "data": {
      "text/plain": [
       "'States'"
      ]
     },
     "execution_count": 51,
     "metadata": {},
     "output_type": "execute_result"
    }
   ],
   "source": [
    "token1.text"
   ]
  },
  {
   "cell_type": "markdown",
   "id": "992cb199",
   "metadata": {},
   "source": [
    "# Token attribute"
   ]
  },
  {
   "cell_type": "code",
   "execution_count": 53,
   "id": "8a5771e6",
   "metadata": {},
   "outputs": [
    {
     "data": {
      "text/plain": [
       "384"
      ]
     },
     "execution_count": 53,
     "metadata": {},
     "output_type": "execute_result"
    }
   ],
   "source": [
    "token1.ent_type"
   ]
  },
  {
   "cell_type": "code",
   "execution_count": 54,
   "id": "9bc35f4b",
   "metadata": {},
   "outputs": [
    {
     "data": {
      "text/plain": [
       "'GPE'"
      ]
     },
     "execution_count": 54,
     "metadata": {},
     "output_type": "execute_result"
    }
   ],
   "source": [
    "token1.ent_type_"
   ]
  },
  {
   "cell_type": "markdown",
   "id": "4762a73b",
   "metadata": {},
   "source": [
    "- GPE :Geo Political entity : corresponding to 384"
   ]
  },
  {
   "cell_type": "code",
   "execution_count": 55,
   "id": "6eb032fc",
   "metadata": {},
   "outputs": [
    {
     "data": {
      "text/plain": [
       "'I'"
      ]
     },
     "execution_count": 55,
     "metadata": {},
     "output_type": "execute_result"
    }
   ],
   "source": [
    "token1.ent_iob_  # I: inside, O: outside, B:beginning  of entity"
   ]
  },
  {
   "cell_type": "code",
   "execution_count": 72,
   "id": "8f1e6bef",
   "metadata": {},
   "outputs": [
    {
     "name": "stdout",
     "output_type": "stream",
     "text": [
      "The\n",
      ")\n"
     ]
    }
   ],
   "source": [
    "print(token1.left_edge)\n",
    "print(token1.right_edge)"
   ]
  },
  {
   "cell_type": "code",
   "execution_count": null,
   "id": "16ca8f2f",
   "metadata": {},
   "outputs": [],
   "source": [
    "- This word 'States' stays inside of bigger entity"
   ]
  },
  {
   "cell_type": "code",
   "execution_count": 86,
   "id": "7a1b25b9",
   "metadata": {},
   "outputs": [
    {
     "name": "stdout",
     "output_type": "stream",
     "text": [
      "original Form:  States\n",
      "Lemma Form :  States\n",
      "morphological Form:  Number=Sing\n",
      "Part of Speech:  PROPN\n",
      "Language:  en\n",
      "Role:  nsubjpass\n"
     ]
    }
   ],
   "source": [
    "print('original Form: ', token1)\n",
    "print('Lemma Form : ',token1.lemma_)\n",
    "print('morphological Form: ', token1.morph)\n",
    "print('Part of Speech: ', token1.pos_)\n",
    "print('Language: ', token1.lang_)\n",
    "print('Role: ', token1.dep_)"
   ]
  },
  {
   "cell_type": "code",
   "execution_count": 87,
   "id": "69d6efaa",
   "metadata": {},
   "outputs": [
    {
     "name": "stdout",
     "output_type": "stream",
     "text": [
      "original Form:  known\n",
      "Lemma Form :  know\n",
      "morphological Form:  Aspect=Perf|Tense=Past|VerbForm=Part\n",
      "Part of Speech:  VERB\n",
      "Language:  en\n",
      "Role:  ccomp\n"
     ]
    }
   ],
   "source": [
    "###  Lemmitization\n",
    "print('original Form: ', sentence1[13])\n",
    "print('Lemma Form : ',sentence1[13].lemma_)\n",
    "print('morphological Form: ', sentence1[13].morph)\n",
    "print('Part of Speech: ', sentence1[13].pos_)\n",
    "print('Language: ', sentence1[13].lang_)\n",
    "print('Role: ', sentence1[13].dep_)"
   ]
  },
  {
   "cell_type": "code",
   "execution_count": 88,
   "id": "7505bf22",
   "metadata": {},
   "outputs": [
    {
     "name": "stdout",
     "output_type": "stream",
     "text": [
      "original Form:  is\n",
      "Lemma Form :  be\n",
      "morphological Form:  Mood=Ind|Number=Sing|Person=3|Tense=Pres|VerbForm=Fin\n",
      "Part of Speech:  AUX\n",
      "Language:  en\n",
      "Role:  ROOT\n"
     ]
    }
   ],
   "source": [
    "print('original Form: ', sentence1[27])\n",
    "print('Lemma Form : ',sentence1[27].lemma_)\n",
    "print('morphological Form: ', sentence1[27].morph)\n",
    "print('Part of Speech: ', sentence1[27].pos_)\n",
    "print('Language: ', sentence1[27].lang_)\n",
    "print('Role: ', sentence1[27].dep_)"
   ]
  },
  {
   "cell_type": "code",
   "execution_count": 89,
   "id": "a25574dc",
   "metadata": {},
   "outputs": [
    {
     "name": "stdout",
     "output_type": "stream",
     "text": [
      "original Form:  located\n",
      "Lemma Form :  locate\n",
      "morphological Form:  Aspect=Perf|Tense=Past|VerbForm=Part\n",
      "Part of Speech:  VERB\n",
      "Language:  en\n",
      "Role:  acl\n"
     ]
    }
   ],
   "source": [
    "print('original Form: ', sentence1[31])\n",
    "print('Lemma Form : ',sentence1[31].lemma_)\n",
    "print('morphological Form: ', sentence1[31].morph)\n",
    "print('Part of Speech: ', sentence1[31].pos_)\n",
    "print('Language: ', sentence1[31].lang_)\n",
    "print('Role: ', sentence1[31].dep_)"
   ]
  },
  {
   "cell_type": "markdown",
   "id": "a597f41c",
   "metadata": {},
   "source": [
    "- perf past part: perfect past participle"
   ]
  },
  {
   "cell_type": "markdown",
   "id": "4f54dced",
   "metadata": {},
   "source": [
    "# Tokenisation with NLTK"
   ]
  },
  {
   "cell_type": "code",
   "execution_count": 7,
   "id": "79bce37e",
   "metadata": {
    "scrolled": true
   },
   "outputs": [
    {
     "data": {
      "text/plain": [
       "['The',\n",
       " 'current',\n",
       " 'metro',\n",
       " 'area',\n",
       " 'population',\n",
       " 'of',\n",
       " 'Tokyo',\n",
       " 'in',\n",
       " '2024',\n",
       " 'is',\n",
       " '37,115,000',\n",
       " ',',\n",
       " 'a',\n",
       " '0.21',\n",
       " '%',\n",
       " 'decline',\n",
       " 'from',\n",
       " '2023',\n",
       " '.',\n",
       " 'The']"
      ]
     },
     "execution_count": 7,
     "metadata": {},
     "output_type": "execute_result"
    }
   ],
   "source": [
    "tokens_nltk = nltk.word_tokenize(para)\n",
    "tokens_nltk[:20]"
   ]
  },
  {
   "cell_type": "markdown",
   "id": "eee1aedd",
   "metadata": {},
   "source": [
    "# Tokenisation with spaCy"
   ]
  },
  {
   "cell_type": "code",
   "execution_count": 8,
   "id": "034c788b",
   "metadata": {},
   "outputs": [
    {
     "name": "stdout",
     "output_type": "stream",
     "text": [
      "The current metro area population of Tokyo in 2024 is 37,115,000, a 0.21% decline from 2023.\n",
      "The metro area population of Tokyo in 2023 was 37,194,000, a 0.21% decline from 2022.\n",
      "The metro area population of Tokyo in 2022 was 37,274,000, a 0.18% decline from 2021.\n",
      "The metro area population of Tokyo in 2021 was 37,340,000, a 0.14% decline from 2020.\n",
      "\n",
      "The\n",
      "current\n",
      "metro\n",
      "area\n",
      "population\n",
      "of\n",
      "Tokyo\n",
      "in\n",
      "2024\n",
      "is\n",
      "37,115,000,\n",
      "a\n",
      "0.21%\n",
      "decline\n",
      "from\n",
      "2023.\n",
      "\n",
      "\n",
      "The\n",
      "metro\n",
      "area\n",
      "population\n",
      "of\n",
      "Tokyo\n",
      "in\n",
      "2023\n",
      "was\n",
      "37,194,000,\n",
      "a\n",
      "0.21%\n",
      "decline\n",
      "from\n",
      "2022.\n",
      "\n",
      "\n",
      "The\n",
      "metro\n",
      "area\n",
      "population\n",
      "of\n",
      "Tokyo\n",
      "in\n",
      "2022\n",
      "was\n",
      "37,274,000,\n",
      "a\n",
      "0.18%\n",
      "decline\n",
      "from\n",
      "2021.\n",
      "\n",
      "\n",
      "The\n",
      "metro\n",
      "area\n",
      "population\n",
      "of\n",
      "Tokyo\n",
      "in\n",
      "2021\n",
      "was\n",
      "37,340,000,\n",
      "a\n",
      "0.14%\n",
      "decline\n",
      "from\n",
      "2020.\n"
     ]
    }
   ],
   "source": [
    "from spacy.tokenizer import Tokenizer\n",
    "# Create a blank Tokenizer with just the English vocab\n",
    "tokenizer = Tokenizer(nlp.vocab)\n",
    "tokens_spaCy = tokenizer(para)\n",
    "\n",
    "\n",
    "print(tokens_spaCy)\n",
    "\n",
    "print()\n",
    "for token in tokens_spaCy:\n",
    "    print(token)"
   ]
  },
  {
   "cell_type": "code",
   "execution_count": 10,
   "id": "cae72e74",
   "metadata": {},
   "outputs": [],
   "source": [
    "unique_token_nltk = set(tokens_nltk)"
   ]
  },
  {
   "cell_type": "code",
   "execution_count": 11,
   "id": "13c04da4",
   "metadata": {},
   "outputs": [],
   "source": [
    "pos_nltk = nltk.pos_tag(unique_token_nltk)"
   ]
  },
  {
   "cell_type": "code",
   "execution_count": 12,
   "id": "7cc95ff2",
   "metadata": {},
   "outputs": [
    {
     "data": {
      "text/plain": [
       "[('Tokyo', 'NNP'),\n",
       " ('from', 'IN'),\n",
       " ('is', 'VBZ'),\n",
       " ('was', 'VBD'),\n",
       " ('0.14', 'CD'),\n",
       " ('2021', 'CD'),\n",
       " ('current', 'JJ'),\n",
       " ('in', 'IN'),\n",
       " ('0.18', 'CD'),\n",
       " ('%', 'NN'),\n",
       " ('37,274,000', 'CD'),\n",
       " ('37,340,000', 'CD'),\n",
       " ('metro', 'NN'),\n",
       " (',', ','),\n",
       " ('decline', 'VBP'),\n",
       " ('37,194,000', 'CD'),\n",
       " ('a', 'DT'),\n",
       " ('2024', 'CD'),\n",
       " ('.', '.'),\n",
       " ('of', 'IN'),\n",
       " ('0.21', 'CD'),\n",
       " ('37,115,000', 'CD'),\n",
       " ('2022', 'CD'),\n",
       " ('2023', 'CD'),\n",
       " ('The', 'DT'),\n",
       " ('2020', 'CD'),\n",
       " ('area', 'NN'),\n",
       " ('population', 'NN')]"
      ]
     },
     "execution_count": 12,
     "metadata": {},
     "output_type": "execute_result"
    }
   ],
   "source": [
    "pos_nltk"
   ]
  },
  {
   "cell_type": "markdown",
   "id": "6c5a9c25",
   "metadata": {},
   "source": [
    "# Entity Extraction with NLTK"
   ]
  },
  {
   "cell_type": "code",
   "execution_count": 25,
   "id": "13ad9378",
   "metadata": {},
   "outputs": [
    {
     "name": "stdout",
     "output_type": "stream",
     "text": [
      "(S\n",
      "  was/VBD\n",
      "  ,/,\n",
      "  from/IN\n",
      "  Tokyo/NNP\n",
      "  2023/CD\n",
      "  decline/NN\n",
      "  2020/CD\n",
      "  0.21/CD\n",
      "  37,194,000/CD\n",
      "  in/IN\n",
      "  37,340,000/CD\n",
      "  0.18/CD\n",
      "  ./.\n",
      "  The/DT\n",
      "  37,274,000/CD\n",
      "  metro/NN\n",
      "  is/VBZ\n",
      "  area/NN\n",
      "  current/JJ\n",
      "  0.14/CD\n",
      "  a/DT\n",
      "  37,115,000/CD\n",
      "  2024/CD\n",
      "  2022/CD\n",
      "  2021/CD\n",
      "  %/NN\n",
      "  of/IN\n",
      "  population/NN)\n"
     ]
    }
   ],
   "source": [
    "print(nltk.ne_chunk(pos_nltk, binary= True))"
   ]
  },
  {
   "cell_type": "markdown",
   "id": "ca3b1821",
   "metadata": {},
   "source": [
    "# Entity Extraction with spaCy"
   ]
  },
  {
   "cell_type": "code",
   "execution_count": 45,
   "id": "53f42d9e",
   "metadata": {},
   "outputs": [
    {
     "data": {
      "text/html": [
       "<span class=\"tex2jax_ignore\"><!DOCTYPE html>\n",
       "<html lang=\"en\">\n",
       "    <head>\n",
       "        <title>displaCy</title>\n",
       "    </head>\n",
       "\n",
       "    <body style=\"font-size: 16px; font-family: -apple-system, BlinkMacSystemFont, 'Segoe UI', Helvetica, Arial, sans-serif, 'Apple Color Emoji', 'Segoe UI Emoji', 'Segoe UI Symbol'; padding: 4rem 2rem; direction: ltr\">\n",
       "<figure style=\"margin-bottom: 6rem\">\n",
       "<svg xmlns=\"http://www.w3.org/2000/svg\" xmlns:xlink=\"http://www.w3.org/1999/xlink\" xml:lang=\"en\" id=\"fe8ca1bdb80a47f982b6fd74d5bdb779-0\" class=\"displacy\" width=\"925\" height=\"224.5\" direction=\"ltr\" style=\"max-width: none; height: 224.5px; color: #000000; background: #ffffff; font-family: Arial; direction: ltr\">\n",
       "<text class=\"displacy-token\" fill=\"currentColor\" text-anchor=\"middle\" y=\"134.5\">\n",
       "    <tspan class=\"displacy-word\" fill=\"currentColor\" x=\"50\">Tokyo</tspan>\n",
       "    <tspan class=\"displacy-tag\" dy=\"2em\" fill=\"currentColor\" x=\"50\">PROPN</tspan>\n",
       "</text>\n",
       "\n",
       "<text class=\"displacy-token\" fill=\"currentColor\" text-anchor=\"middle\" y=\"134.5\">\n",
       "    <tspan class=\"displacy-word\" fill=\"currentColor\" x=\"225\">is</tspan>\n",
       "    <tspan class=\"displacy-tag\" dy=\"2em\" fill=\"currentColor\" x=\"225\">AUX</tspan>\n",
       "</text>\n",
       "\n",
       "<text class=\"displacy-token\" fill=\"currentColor\" text-anchor=\"middle\" y=\"134.5\">\n",
       "    <tspan class=\"displacy-word\" fill=\"currentColor\" x=\"400\">capital</tspan>\n",
       "    <tspan class=\"displacy-tag\" dy=\"2em\" fill=\"currentColor\" x=\"400\">NOUN</tspan>\n",
       "</text>\n",
       "\n",
       "<text class=\"displacy-token\" fill=\"currentColor\" text-anchor=\"middle\" y=\"134.5\">\n",
       "    <tspan class=\"displacy-word\" fill=\"currentColor\" x=\"575\">of</tspan>\n",
       "    <tspan class=\"displacy-tag\" dy=\"2em\" fill=\"currentColor\" x=\"575\">ADP</tspan>\n",
       "</text>\n",
       "\n",
       "<text class=\"displacy-token\" fill=\"currentColor\" text-anchor=\"middle\" y=\"134.5\">\n",
       "    <tspan class=\"displacy-word\" fill=\"currentColor\" x=\"750\">Japan</tspan>\n",
       "    <tspan class=\"displacy-tag\" dy=\"2em\" fill=\"currentColor\" x=\"750\">PROPN</tspan>\n",
       "</text>\n",
       "\n",
       "<g class=\"displacy-arrow\">\n",
       "    <path class=\"displacy-arc\" id=\"arrow-fe8ca1bdb80a47f982b6fd74d5bdb779-0-0\" stroke-width=\"2px\" d=\"M70,89.5 C70,2.0 225.0,2.0 225.0,89.5\" fill=\"none\" stroke=\"currentColor\"/>\n",
       "    <text dy=\"1.25em\" style=\"font-size: 0.8em; letter-spacing: 1px\">\n",
       "        <textPath xlink:href=\"#arrow-fe8ca1bdb80a47f982b6fd74d5bdb779-0-0\" class=\"displacy-label\" startOffset=\"50%\" side=\"left\" fill=\"currentColor\" text-anchor=\"middle\">nsubj</textPath>\n",
       "    </text>\n",
       "    <path class=\"displacy-arrowhead\" d=\"M70,91.5 L62,79.5 78,79.5\" fill=\"currentColor\"/>\n",
       "</g>\n",
       "\n",
       "<g class=\"displacy-arrow\">\n",
       "    <path class=\"displacy-arc\" id=\"arrow-fe8ca1bdb80a47f982b6fd74d5bdb779-0-1\" stroke-width=\"2px\" d=\"M245,89.5 C245,2.0 400.0,2.0 400.0,89.5\" fill=\"none\" stroke=\"currentColor\"/>\n",
       "    <text dy=\"1.25em\" style=\"font-size: 0.8em; letter-spacing: 1px\">\n",
       "        <textPath xlink:href=\"#arrow-fe8ca1bdb80a47f982b6fd74d5bdb779-0-1\" class=\"displacy-label\" startOffset=\"50%\" side=\"left\" fill=\"currentColor\" text-anchor=\"middle\">attr</textPath>\n",
       "    </text>\n",
       "    <path class=\"displacy-arrowhead\" d=\"M400.0,91.5 L408.0,79.5 392.0,79.5\" fill=\"currentColor\"/>\n",
       "</g>\n",
       "\n",
       "<g class=\"displacy-arrow\">\n",
       "    <path class=\"displacy-arc\" id=\"arrow-fe8ca1bdb80a47f982b6fd74d5bdb779-0-2\" stroke-width=\"2px\" d=\"M420,89.5 C420,2.0 575.0,2.0 575.0,89.5\" fill=\"none\" stroke=\"currentColor\"/>\n",
       "    <text dy=\"1.25em\" style=\"font-size: 0.8em; letter-spacing: 1px\">\n",
       "        <textPath xlink:href=\"#arrow-fe8ca1bdb80a47f982b6fd74d5bdb779-0-2\" class=\"displacy-label\" startOffset=\"50%\" side=\"left\" fill=\"currentColor\" text-anchor=\"middle\">prep</textPath>\n",
       "    </text>\n",
       "    <path class=\"displacy-arrowhead\" d=\"M575.0,91.5 L583.0,79.5 567.0,79.5\" fill=\"currentColor\"/>\n",
       "</g>\n",
       "\n",
       "<g class=\"displacy-arrow\">\n",
       "    <path class=\"displacy-arc\" id=\"arrow-fe8ca1bdb80a47f982b6fd74d5bdb779-0-3\" stroke-width=\"2px\" d=\"M595,89.5 C595,2.0 750.0,2.0 750.0,89.5\" fill=\"none\" stroke=\"currentColor\"/>\n",
       "    <text dy=\"1.25em\" style=\"font-size: 0.8em; letter-spacing: 1px\">\n",
       "        <textPath xlink:href=\"#arrow-fe8ca1bdb80a47f982b6fd74d5bdb779-0-3\" class=\"displacy-label\" startOffset=\"50%\" side=\"left\" fill=\"currentColor\" text-anchor=\"middle\">pobj</textPath>\n",
       "    </text>\n",
       "    <path class=\"displacy-arrowhead\" d=\"M750.0,91.5 L758.0,79.5 742.0,79.5\" fill=\"currentColor\"/>\n",
       "</g>\n",
       "</svg>\n",
       "</figure>\n",
       "</body>\n",
       "</html></span>"
      ],
      "text/plain": [
       "<IPython.core.display.HTML object>"
      ]
     },
     "metadata": {},
     "output_type": "display_data"
    },
    {
     "name": "stdout",
     "output_type": "stream",
     "text": [
      "\n",
      "Using the 'dep' visualizer\n",
      "Serving on http://0.0.0.0:5000 ...\n",
      "\n",
      "Shutting down server on port 5000.\n"
     ]
    }
   ],
   "source": [
    "from spacy import displacy\n",
    "displacy.serve(nlp('Tokyo is capital of Japan'), style=\"dep\")"
   ]
  },
  {
   "cell_type": "code",
   "execution_count": 54,
   "id": "d9fd4a60",
   "metadata": {},
   "outputs": [
    {
     "data": {
      "text/html": [
       "<span class=\"tex2jax_ignore\"><!DOCTYPE html>\n",
       "<html lang=\"en\">\n",
       "    <head>\n",
       "        <title>displaCy</title>\n",
       "    </head>\n",
       "\n",
       "    <body style=\"font-size: 16px; font-family: -apple-system, BlinkMacSystemFont, 'Segoe UI', Helvetica, Arial, sans-serif, 'Apple Color Emoji', 'Segoe UI Emoji', 'Segoe UI Symbol'; padding: 4rem 2rem; direction: ltr\">\n",
       "<figure style=\"margin-bottom: 6rem\">\n",
       "<div class=\"entities\" style=\"line-height: 2.5; direction: ltr\">\n",
       "<mark class=\"entity\" style=\"background: #feca74; padding: 0.45em 0.6em; margin: 0 0.25em; line-height: 1; border-radius: 0.35em;\">\n",
       "    Delhi\n",
       "    <span style=\"font-size: 0.8em; font-weight: bold; line-height: 1; border-radius: 0.35em; vertical-align: middle; margin-left: 0.5rem\">GPE</span>\n",
       "</mark>\n",
       " is capital of \n",
       "<mark class=\"entity\" style=\"background: #feca74; padding: 0.45em 0.6em; margin: 0 0.25em; line-height: 1; border-radius: 0.35em;\">\n",
       "    India\n",
       "    <span style=\"font-size: 0.8em; font-weight: bold; line-height: 1; border-radius: 0.35em; vertical-align: middle; margin-left: 0.5rem\">GPE</span>\n",
       "</mark>\n",
       ". \n",
       "<mark class=\"entity\" style=\"background: #aa9cfc; padding: 0.45em 0.6em; margin: 0 0.25em; line-height: 1; border-radius: 0.35em;\">\n",
       "    Narendra Modi\n",
       "    <span style=\"font-size: 0.8em; font-weight: bold; line-height: 1; border-radius: 0.35em; vertical-align: middle; margin-left: 0.5rem\">PERSON</span>\n",
       "</mark>\n",
       " is prime minister of \n",
       "<mark class=\"entity\" style=\"background: #feca74; padding: 0.45em 0.6em; margin: 0 0.25em; line-height: 1; border-radius: 0.35em;\">\n",
       "    India\n",
       "    <span style=\"font-size: 0.8em; font-weight: bold; line-height: 1; border-radius: 0.35em; vertical-align: middle; margin-left: 0.5rem\">GPE</span>\n",
       "</mark>\n",
       ". The population of \n",
       "<mark class=\"entity\" style=\"background: #feca74; padding: 0.45em 0.6em; margin: 0 0.25em; line-height: 1; border-radius: 0.35em;\">\n",
       "    India\n",
       "    <span style=\"font-size: 0.8em; font-weight: bold; line-height: 1; border-radius: 0.35em; vertical-align: middle; margin-left: 0.5rem\">GPE</span>\n",
       "</mark>\n",
       " in \n",
       "<mark class=\"entity\" style=\"background: #bfe1d9; padding: 0.45em 0.6em; margin: 0 0.25em; line-height: 1; border-radius: 0.35em;\">\n",
       "    2023\n",
       "    <span style=\"font-size: 0.8em; font-weight: bold; line-height: 1; border-radius: 0.35em; vertical-align: middle; margin-left: 0.5rem\">DATE</span>\n",
       "</mark>\n",
       " was \n",
       "<mark class=\"entity\" style=\"background: #bfe1d9; padding: 0.45em 0.6em; margin: 0 0.25em; line-height: 1; border-radius: 0.35em;\">\n",
       "    1,428,627,663\n",
       "    <span style=\"font-size: 0.8em; font-weight: bold; line-height: 1; border-radius: 0.35em; vertical-align: middle; margin-left: 0.5rem\">DATE</span>\n",
       "</mark>\n",
       ", a \n",
       "<mark class=\"entity\" style=\"background: #e4e7d2; padding: 0.45em 0.6em; margin: 0 0.25em; line-height: 1; border-radius: 0.35em;\">\n",
       "    0.81%\n",
       "    <span style=\"font-size: 0.8em; font-weight: bold; line-height: 1; border-radius: 0.35em; vertical-align: middle; margin-left: 0.5rem\">PERCENT</span>\n",
       "</mark>\n",
       " increase from \n",
       "<mark class=\"entity\" style=\"background: #bfe1d9; padding: 0.45em 0.6em; margin: 0 0.25em; line-height: 1; border-radius: 0.35em;\">\n",
       "    2022\n",
       "    <span style=\"font-size: 0.8em; font-weight: bold; line-height: 1; border-radius: 0.35em; vertical-align: middle; margin-left: 0.5rem\">DATE</span>\n",
       "</mark>\n",
       ". .</div>\n",
       "</figure>\n",
       "</body>\n",
       "</html></span>"
      ],
      "text/plain": [
       "<IPython.core.display.HTML object>"
      ]
     },
     "metadata": {},
     "output_type": "display_data"
    },
    {
     "name": "stdout",
     "output_type": "stream",
     "text": [
      "\n",
      "Using the 'ent' visualizer\n",
      "Serving on http://0.0.0.0:5000 ...\n",
      "\n",
      "Shutting down server on port 5000.\n"
     ]
    }
   ],
   "source": [
    "displacy.serve(nlp(\"Delhi is capital of India. Narendra Modi is prime minister of India. The population of India in 2023 was 1,428,627,663, a 0.81% increase from 2022.\"), style=\"ent\")"
   ]
  },
  {
   "cell_type": "code",
   "execution_count": 57,
   "id": "4f88275a",
   "metadata": {},
   "outputs": [
    {
     "data": {
      "text/html": [
       "<span class=\"tex2jax_ignore\"><!DOCTYPE html>\n",
       "<html lang=\"en\">\n",
       "    <head>\n",
       "        <title>displaCy</title>\n",
       "    </head>\n",
       "\n",
       "    <body style=\"font-size: 16px; font-family: -apple-system, BlinkMacSystemFont, 'Segoe UI', Helvetica, Arial, sans-serif, 'Apple Color Emoji', 'Segoe UI Emoji', 'Segoe UI Symbol'; padding: 4rem 2rem; direction: ltr\">\n",
       "<figure style=\"margin-bottom: 6rem\">\n",
       "<div class=\"entities\" style=\"line-height: 2.5; direction: ltr\">\n",
       "<mark class=\"entity\" style=\"background: linear-gradient(90deg, #aa9cfc, #fc9ce7); padding: 0.45em 0.6em; margin: 0 0.25em; line-height: 1; border-radius: 0.35em;\">\n",
       "    Delhi\n",
       "    <span style=\"font-size: 0.8em; font-weight: bold; line-height: 1; border-radius: 0.35em; vertical-align: middle; margin-left: 0.5rem\">GPE</span>\n",
       "</mark>\n",
       " is capital of \n",
       "<mark class=\"entity\" style=\"background: linear-gradient(90deg, #aa9cfc, #fc9ce7); padding: 0.45em 0.6em; margin: 0 0.25em; line-height: 1; border-radius: 0.35em;\">\n",
       "    India\n",
       "    <span style=\"font-size: 0.8em; font-weight: bold; line-height: 1; border-radius: 0.35em; vertical-align: middle; margin-left: 0.5rem\">GPE</span>\n",
       "</mark>\n",
       ". Narendra Modi is prime minister of \n",
       "<mark class=\"entity\" style=\"background: linear-gradient(90deg, #aa9cfc, #fc9ce7); padding: 0.45em 0.6em; margin: 0 0.25em; line-height: 1; border-radius: 0.35em;\">\n",
       "    India\n",
       "    <span style=\"font-size: 0.8em; font-weight: bold; line-height: 1; border-radius: 0.35em; vertical-align: middle; margin-left: 0.5rem\">GPE</span>\n",
       "</mark>\n",
       ". The population of \n",
       "<mark class=\"entity\" style=\"background: linear-gradient(90deg, #aa9cfc, #fc9ce7); padding: 0.45em 0.6em; margin: 0 0.25em; line-height: 1; border-radius: 0.35em;\">\n",
       "    India\n",
       "    <span style=\"font-size: 0.8em; font-weight: bold; line-height: 1; border-radius: 0.35em; vertical-align: middle; margin-left: 0.5rem\">GPE</span>\n",
       "</mark>\n",
       " in 2023 was 1,428,627,663, a 0.81% increase from 2022.</div>\n",
       "</figure>\n",
       "</body>\n",
       "</html></span>"
      ],
      "text/plain": [
       "<IPython.core.display.HTML object>"
      ]
     },
     "metadata": {},
     "output_type": "display_data"
    },
    {
     "name": "stdout",
     "output_type": "stream",
     "text": [
      "\n",
      "Using the 'ent' visualizer\n",
      "Serving on http://0.0.0.0:5000 ...\n",
      "\n",
      "Shutting down server on port 5000.\n"
     ]
    }
   ],
   "source": [
    "colors = {\"GPE\": \"linear-gradient(90deg, #aa9cfc, #fc9ce7)\"}\n",
    "options = {\"ents\": [\"GPE\"], \"colors\": colors}\n",
    "displacy.serve(nlp(\"Delhi is capital of India. Narendra Modi is prime minister of India. The population of India in 2023 was 1,428,627,663, a 0.81% increase from 2022.\"), style=\"ent\", options=options)"
   ]
  },
  {
   "cell_type": "code",
   "execution_count": 29,
   "id": "11aa31da",
   "metadata": {},
   "outputs": [
    {
     "data": {
      "text/plain": [
       "Tokyo"
      ]
     },
     "execution_count": 29,
     "metadata": {},
     "output_type": "execute_result"
    }
   ],
   "source": [
    "doc[6]"
   ]
  },
  {
   "cell_type": "code",
   "execution_count": 30,
   "id": "87c6b9de",
   "metadata": {},
   "outputs": [
    {
     "data": {
      "text/plain": [
       "96"
      ]
     },
     "execution_count": 30,
     "metadata": {},
     "output_type": "execute_result"
    }
   ],
   "source": [
    "doc[6].pos"
   ]
  },
  {
   "cell_type": "code",
   "execution_count": 55,
   "id": "a040dc5b",
   "metadata": {},
   "outputs": [
    {
     "data": {
      "text/html": [
       "<span class=\"tex2jax_ignore\"><!DOCTYPE html>\n",
       "<html lang=\"en\">\n",
       "    <head>\n",
       "        <title>displaCy</title>\n",
       "    </head>\n",
       "\n",
       "    <body style=\"font-size: 16px; font-family: -apple-system, BlinkMacSystemFont, 'Segoe UI', Helvetica, Arial, sans-serif, 'Apple Color Emoji', 'Segoe UI Emoji', 'Segoe UI Symbol'; padding: 4rem 2rem; direction: ltr\">\n",
       "<figure style=\"margin-bottom: 6rem\">\n",
       "<div class=\"entities\" style=\"line-height: 2.5; direction: ltr\">The current \n",
       "<mark class=\"entity\" style=\"background: #ff9561; padding: 0.45em 0.6em; margin: 0 0.25em; line-height: 1; border-radius: 0.35em;\">\n",
       "    metro area\n",
       "    <span style=\"font-size: 0.8em; font-weight: bold; line-height: 1; border-radius: 0.35em; vertical-align: middle; margin-left: 0.5rem\">LOC</span>\n",
       "</mark>\n",
       " population of \n",
       "<mark class=\"entity\" style=\"background: #feca74; padding: 0.45em 0.6em; margin: 0 0.25em; line-height: 1; border-radius: 0.35em;\">\n",
       "    Tokyo\n",
       "    <span style=\"font-size: 0.8em; font-weight: bold; line-height: 1; border-radius: 0.35em; vertical-align: middle; margin-left: 0.5rem\">GPE</span>\n",
       "</mark>\n",
       " in \n",
       "<mark class=\"entity\" style=\"background: #bfe1d9; padding: 0.45em 0.6em; margin: 0 0.25em; line-height: 1; border-radius: 0.35em;\">\n",
       "    2024\n",
       "    <span style=\"font-size: 0.8em; font-weight: bold; line-height: 1; border-radius: 0.35em; vertical-align: middle; margin-left: 0.5rem\">DATE</span>\n",
       "</mark>\n",
       " is \n",
       "<mark class=\"entity\" style=\"background: #e4e7d2; padding: 0.45em 0.6em; margin: 0 0.25em; line-height: 1; border-radius: 0.35em;\">\n",
       "    37,115,000\n",
       "    <span style=\"font-size: 0.8em; font-weight: bold; line-height: 1; border-radius: 0.35em; vertical-align: middle; margin-left: 0.5rem\">CARDINAL</span>\n",
       "</mark>\n",
       ", a \n",
       "<mark class=\"entity\" style=\"background: #e4e7d2; padding: 0.45em 0.6em; margin: 0 0.25em; line-height: 1; border-radius: 0.35em;\">\n",
       "    0.21%\n",
       "    <span style=\"font-size: 0.8em; font-weight: bold; line-height: 1; border-radius: 0.35em; vertical-align: middle; margin-left: 0.5rem\">PERCENT</span>\n",
       "</mark>\n",
       " decline from \n",
       "<mark class=\"entity\" style=\"background: #bfe1d9; padding: 0.45em 0.6em; margin: 0 0.25em; line-height: 1; border-radius: 0.35em;\">\n",
       "    2023\n",
       "    <span style=\"font-size: 0.8em; font-weight: bold; line-height: 1; border-radius: 0.35em; vertical-align: middle; margin-left: 0.5rem\">DATE</span>\n",
       "</mark>\n",
       ".<br>The \n",
       "<mark class=\"entity\" style=\"background: #9cc9cc; padding: 0.45em 0.6em; margin: 0 0.25em; line-height: 1; border-radius: 0.35em;\">\n",
       "    metro\n",
       "    <span style=\"font-size: 0.8em; font-weight: bold; line-height: 1; border-radius: 0.35em; vertical-align: middle; margin-left: 0.5rem\">FAC</span>\n",
       "</mark>\n",
       " area population of \n",
       "<mark class=\"entity\" style=\"background: #feca74; padding: 0.45em 0.6em; margin: 0 0.25em; line-height: 1; border-radius: 0.35em;\">\n",
       "    Tokyo\n",
       "    <span style=\"font-size: 0.8em; font-weight: bold; line-height: 1; border-radius: 0.35em; vertical-align: middle; margin-left: 0.5rem\">GPE</span>\n",
       "</mark>\n",
       " in \n",
       "<mark class=\"entity\" style=\"background: #bfe1d9; padding: 0.45em 0.6em; margin: 0 0.25em; line-height: 1; border-radius: 0.35em;\">\n",
       "    2023\n",
       "    <span style=\"font-size: 0.8em; font-weight: bold; line-height: 1; border-radius: 0.35em; vertical-align: middle; margin-left: 0.5rem\">DATE</span>\n",
       "</mark>\n",
       " was \n",
       "<mark class=\"entity\" style=\"background: #e4e7d2; padding: 0.45em 0.6em; margin: 0 0.25em; line-height: 1; border-radius: 0.35em;\">\n",
       "    37,194,000\n",
       "    <span style=\"font-size: 0.8em; font-weight: bold; line-height: 1; border-radius: 0.35em; vertical-align: middle; margin-left: 0.5rem\">CARDINAL</span>\n",
       "</mark>\n",
       ", a \n",
       "<mark class=\"entity\" style=\"background: #e4e7d2; padding: 0.45em 0.6em; margin: 0 0.25em; line-height: 1; border-radius: 0.35em;\">\n",
       "    0.21%\n",
       "    <span style=\"font-size: 0.8em; font-weight: bold; line-height: 1; border-radius: 0.35em; vertical-align: middle; margin-left: 0.5rem\">PERCENT</span>\n",
       "</mark>\n",
       " decline from \n",
       "<mark class=\"entity\" style=\"background: #bfe1d9; padding: 0.45em 0.6em; margin: 0 0.25em; line-height: 1; border-radius: 0.35em;\">\n",
       "    2022\n",
       "    <span style=\"font-size: 0.8em; font-weight: bold; line-height: 1; border-radius: 0.35em; vertical-align: middle; margin-left: 0.5rem\">DATE</span>\n",
       "</mark>\n",
       ".<br>The \n",
       "<mark class=\"entity\" style=\"background: #9cc9cc; padding: 0.45em 0.6em; margin: 0 0.25em; line-height: 1; border-radius: 0.35em;\">\n",
       "    metro\n",
       "    <span style=\"font-size: 0.8em; font-weight: bold; line-height: 1; border-radius: 0.35em; vertical-align: middle; margin-left: 0.5rem\">FAC</span>\n",
       "</mark>\n",
       " area population of \n",
       "<mark class=\"entity\" style=\"background: #feca74; padding: 0.45em 0.6em; margin: 0 0.25em; line-height: 1; border-radius: 0.35em;\">\n",
       "    Tokyo\n",
       "    <span style=\"font-size: 0.8em; font-weight: bold; line-height: 1; border-radius: 0.35em; vertical-align: middle; margin-left: 0.5rem\">GPE</span>\n",
       "</mark>\n",
       " in \n",
       "<mark class=\"entity\" style=\"background: #bfe1d9; padding: 0.45em 0.6em; margin: 0 0.25em; line-height: 1; border-radius: 0.35em;\">\n",
       "    2022\n",
       "    <span style=\"font-size: 0.8em; font-weight: bold; line-height: 1; border-radius: 0.35em; vertical-align: middle; margin-left: 0.5rem\">DATE</span>\n",
       "</mark>\n",
       " was \n",
       "<mark class=\"entity\" style=\"background: #e4e7d2; padding: 0.45em 0.6em; margin: 0 0.25em; line-height: 1; border-radius: 0.35em;\">\n",
       "    37,274,000\n",
       "    <span style=\"font-size: 0.8em; font-weight: bold; line-height: 1; border-radius: 0.35em; vertical-align: middle; margin-left: 0.5rem\">CARDINAL</span>\n",
       "</mark>\n",
       ", a \n",
       "<mark class=\"entity\" style=\"background: #e4e7d2; padding: 0.45em 0.6em; margin: 0 0.25em; line-height: 1; border-radius: 0.35em;\">\n",
       "    0.18%\n",
       "    <span style=\"font-size: 0.8em; font-weight: bold; line-height: 1; border-radius: 0.35em; vertical-align: middle; margin-left: 0.5rem\">PERCENT</span>\n",
       "</mark>\n",
       " decline from \n",
       "<mark class=\"entity\" style=\"background: #bfe1d9; padding: 0.45em 0.6em; margin: 0 0.25em; line-height: 1; border-radius: 0.35em;\">\n",
       "    2021\n",
       "    <span style=\"font-size: 0.8em; font-weight: bold; line-height: 1; border-radius: 0.35em; vertical-align: middle; margin-left: 0.5rem\">DATE</span>\n",
       "</mark>\n",
       ".<br>The \n",
       "<mark class=\"entity\" style=\"background: #9cc9cc; padding: 0.45em 0.6em; margin: 0 0.25em; line-height: 1; border-radius: 0.35em;\">\n",
       "    metro\n",
       "    <span style=\"font-size: 0.8em; font-weight: bold; line-height: 1; border-radius: 0.35em; vertical-align: middle; margin-left: 0.5rem\">FAC</span>\n",
       "</mark>\n",
       " area population of \n",
       "<mark class=\"entity\" style=\"background: #feca74; padding: 0.45em 0.6em; margin: 0 0.25em; line-height: 1; border-radius: 0.35em;\">\n",
       "    Tokyo\n",
       "    <span style=\"font-size: 0.8em; font-weight: bold; line-height: 1; border-radius: 0.35em; vertical-align: middle; margin-left: 0.5rem\">GPE</span>\n",
       "</mark>\n",
       " in \n",
       "<mark class=\"entity\" style=\"background: #bfe1d9; padding: 0.45em 0.6em; margin: 0 0.25em; line-height: 1; border-radius: 0.35em;\">\n",
       "    2021\n",
       "    <span style=\"font-size: 0.8em; font-weight: bold; line-height: 1; border-radius: 0.35em; vertical-align: middle; margin-left: 0.5rem\">DATE</span>\n",
       "</mark>\n",
       " was \n",
       "<mark class=\"entity\" style=\"background: #e4e7d2; padding: 0.45em 0.6em; margin: 0 0.25em; line-height: 1; border-radius: 0.35em;\">\n",
       "    37,340,000\n",
       "    <span style=\"font-size: 0.8em; font-weight: bold; line-height: 1; border-radius: 0.35em; vertical-align: middle; margin-left: 0.5rem\">CARDINAL</span>\n",
       "</mark>\n",
       ", a \n",
       "<mark class=\"entity\" style=\"background: #e4e7d2; padding: 0.45em 0.6em; margin: 0 0.25em; line-height: 1; border-radius: 0.35em;\">\n",
       "    0.14%\n",
       "    <span style=\"font-size: 0.8em; font-weight: bold; line-height: 1; border-radius: 0.35em; vertical-align: middle; margin-left: 0.5rem\">PERCENT</span>\n",
       "</mark>\n",
       " decline from \n",
       "<mark class=\"entity\" style=\"background: #bfe1d9; padding: 0.45em 0.6em; margin: 0 0.25em; line-height: 1; border-radius: 0.35em;\">\n",
       "    2020\n",
       "    <span style=\"font-size: 0.8em; font-weight: bold; line-height: 1; border-radius: 0.35em; vertical-align: middle; margin-left: 0.5rem\">DATE</span>\n",
       "</mark>\n",
       ".</div>\n",
       "</figure>\n",
       "</body>\n",
       "</html></span>"
      ],
      "text/plain": [
       "<IPython.core.display.HTML object>"
      ]
     },
     "metadata": {},
     "output_type": "display_data"
    },
    {
     "name": "stdout",
     "output_type": "stream",
     "text": [
      "\n",
      "Using the 'ent' visualizer\n",
      "Serving on http://0.0.0.0:5000 ...\n",
      "\n",
      "Shutting down server on port 5000.\n"
     ]
    }
   ],
   "source": [
    "displacy.serve(doc, style=\"ent\")"
   ]
  },
  {
   "cell_type": "code",
   "execution_count": 58,
   "id": "5d4d9c15",
   "metadata": {},
   "outputs": [
    {
     "data": {
      "text/html": [
       "<span class=\"tex2jax_ignore\"><!DOCTYPE html>\n",
       "<html lang=\"en\">\n",
       "    <head>\n",
       "        <title>displaCy</title>\n",
       "    </head>\n",
       "\n",
       "    <body style=\"font-size: 16px; font-family: -apple-system, BlinkMacSystemFont, 'Segoe UI', Helvetica, Arial, sans-serif, 'Apple Color Emoji', 'Segoe UI Emoji', 'Segoe UI Symbol'; padding: 4rem 2rem; direction: ltr\">\n",
       "<figure style=\"margin-bottom: 6rem\">\n",
       "<div class=\"entities\" style=\"line-height: 2.5; direction: ltr\">The current metro area population of \n",
       "<mark class=\"entity\" style=\"background: linear-gradient(90deg, #aa9cfc, #fc9ce7); padding: 0.45em 0.6em; margin: 0 0.25em; line-height: 1; border-radius: 0.35em;\">\n",
       "    Tokyo\n",
       "    <span style=\"font-size: 0.8em; font-weight: bold; line-height: 1; border-radius: 0.35em; vertical-align: middle; margin-left: 0.5rem\">GPE</span>\n",
       "</mark>\n",
       " in 2024 is 37,115,000, a 0.21% decline from 2023.<br>The metro area population of \n",
       "<mark class=\"entity\" style=\"background: linear-gradient(90deg, #aa9cfc, #fc9ce7); padding: 0.45em 0.6em; margin: 0 0.25em; line-height: 1; border-radius: 0.35em;\">\n",
       "    Tokyo\n",
       "    <span style=\"font-size: 0.8em; font-weight: bold; line-height: 1; border-radius: 0.35em; vertical-align: middle; margin-left: 0.5rem\">GPE</span>\n",
       "</mark>\n",
       " in 2023 was 37,194,000, a 0.21% decline from 2022.<br>The metro area population of \n",
       "<mark class=\"entity\" style=\"background: linear-gradient(90deg, #aa9cfc, #fc9ce7); padding: 0.45em 0.6em; margin: 0 0.25em; line-height: 1; border-radius: 0.35em;\">\n",
       "    Tokyo\n",
       "    <span style=\"font-size: 0.8em; font-weight: bold; line-height: 1; border-radius: 0.35em; vertical-align: middle; margin-left: 0.5rem\">GPE</span>\n",
       "</mark>\n",
       " in 2022 was 37,274,000, a 0.18% decline from 2021.<br>The metro area population of \n",
       "<mark class=\"entity\" style=\"background: linear-gradient(90deg, #aa9cfc, #fc9ce7); padding: 0.45em 0.6em; margin: 0 0.25em; line-height: 1; border-radius: 0.35em;\">\n",
       "    Tokyo\n",
       "    <span style=\"font-size: 0.8em; font-weight: bold; line-height: 1; border-radius: 0.35em; vertical-align: middle; margin-left: 0.5rem\">GPE</span>\n",
       "</mark>\n",
       " in 2021 was 37,340,000, a 0.14% decline from 2020.</div>\n",
       "</figure>\n",
       "</body>\n",
       "</html></span>"
      ],
      "text/plain": [
       "<IPython.core.display.HTML object>"
      ]
     },
     "metadata": {},
     "output_type": "display_data"
    },
    {
     "name": "stdout",
     "output_type": "stream",
     "text": [
      "\n",
      "Using the 'ent' visualizer\n",
      "Serving on http://0.0.0.0:5000 ...\n",
      "\n",
      "Shutting down server on port 5000.\n"
     ]
    }
   ],
   "source": [
    "displacy.serve(doc, style=\"ent\", options = options)"
   ]
  },
  {
   "cell_type": "code",
   "execution_count": 41,
   "id": "2faadeff",
   "metadata": {},
   "outputs": [
    {
     "name": "stdout",
     "output_type": "stream",
     "text": [
      "The 90\n",
      "current 84\n",
      "metro 92\n",
      "area 92\n",
      "population 92\n",
      "of 85\n",
      "Tokyo 96\n",
      "in 85\n",
      "2024 93\n",
      "is 87\n",
      "37,115,000 93\n",
      ", 97\n",
      "a 90\n",
      "0.21 93\n",
      "% 92\n",
      "decline 92\n",
      "from 85\n",
      "2023 93\n",
      ". 97\n",
      "\n",
      " 103\n",
      "The 90\n",
      "metro 96\n",
      "area 92\n",
      "population 92\n",
      "of 85\n",
      "Tokyo 96\n",
      "in 85\n",
      "2023 93\n",
      "was 87\n",
      "37,194,000 93\n",
      ", 97\n",
      "a 90\n",
      "0.21 93\n",
      "% 92\n",
      "decline 92\n",
      "from 85\n",
      "2022 93\n",
      ". 97\n",
      "\n",
      " 103\n",
      "The 90\n",
      "metro 96\n",
      "area 92\n",
      "population 92\n",
      "of 85\n",
      "Tokyo 96\n",
      "in 85\n",
      "2022 93\n",
      "was 87\n",
      "37,274,000 93\n",
      ", 97\n",
      "a 90\n",
      "0.18 93\n",
      "% 92\n",
      "decline 92\n",
      "from 85\n",
      "2021 93\n",
      ". 97\n",
      "\n",
      " 103\n",
      "The 90\n",
      "metro 96\n",
      "area 92\n",
      "population 92\n",
      "of 85\n",
      "Tokyo 96\n",
      "in 85\n",
      "2021 93\n",
      "was 87\n",
      "37,340,000 93\n",
      ", 97\n",
      "a 90\n",
      "0.14 93\n",
      "% 92\n",
      "decline 92\n",
      "from 85\n",
      "2020 93\n",
      ". 97\n"
     ]
    }
   ],
   "source": [
    " for i in doc:\n",
    "        print(i,i.pos)"
   ]
  },
  {
   "cell_type": "code",
   "execution_count": 23,
   "id": "e76affb5",
   "metadata": {},
   "outputs": [
    {
     "data": {
      "text/plain": [
       "[(metro area, 'LOC', 385),\n",
       " (Tokyo, 'GPE', 384),\n",
       " (2024, 'DATE', 391),\n",
       " (37,115,000, 'CARDINAL', 397),\n",
       " (0.21%, 'PERCENT', 393),\n",
       " (2023, 'DATE', 391),\n",
       " (metro, 'FAC', 9191306739292312949),\n",
       " (Tokyo, 'GPE', 384),\n",
       " (2023, 'DATE', 391),\n",
       " (37,194,000, 'CARDINAL', 397),\n",
       " (0.21%, 'PERCENT', 393),\n",
       " (2022, 'DATE', 391),\n",
       " (metro, 'FAC', 9191306739292312949),\n",
       " (Tokyo, 'GPE', 384),\n",
       " (2022, 'DATE', 391),\n",
       " (37,274,000, 'CARDINAL', 397),\n",
       " (0.18%, 'PERCENT', 393),\n",
       " (2021, 'DATE', 391),\n",
       " (metro, 'FAC', 9191306739292312949),\n",
       " (Tokyo, 'GPE', 384),\n",
       " (2021, 'DATE', 391),\n",
       " (37,340,000, 'CARDINAL', 397),\n",
       " (0.14%, 'PERCENT', 393),\n",
       " (2020, 'DATE', 391)]"
      ]
     },
     "execution_count": 23,
     "metadata": {},
     "output_type": "execute_result"
    }
   ],
   "source": [
    "entities =[(i, i.label_, i.label) for i in doc.ents]\n",
    "entities"
   ]
  },
  {
   "cell_type": "markdown",
   "id": "ab0fbab3",
   "metadata": {},
   "source": [
    "# Reference\n",
    "- https://www.youtube.com/watch?v=dIUTsFT2MeQ&t=9s\n",
    "- https://www.tutorialspoint.com/spacy/spacy_container_token_class.htm"
   ]
  },
  {
   "cell_type": "code",
   "execution_count": null,
   "id": "c47b0ee4",
   "metadata": {},
   "outputs": [],
   "source": []
  }
 ],
 "metadata": {
  "kernelspec": {
   "display_name": "Python 3 (ipykernel)",
   "language": "python",
   "name": "python3"
  },
  "language_info": {
   "codemirror_mode": {
    "name": "ipython",
    "version": 3
   },
   "file_extension": ".py",
   "mimetype": "text/x-python",
   "name": "python",
   "nbconvert_exporter": "python",
   "pygments_lexer": "ipython3",
   "version": "3.10.9"
  }
 },
 "nbformat": 4,
 "nbformat_minor": 5
}
